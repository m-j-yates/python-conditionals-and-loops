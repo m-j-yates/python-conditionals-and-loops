{
  "nbformat": 4,
  "nbformat_minor": 0,
  "metadata": {
    "colab": {
      "provenance": [],
      "include_colab_link": true
    },
    "kernelspec": {
      "name": "python3",
      "display_name": "Python 3"
    },
    "language_info": {
      "name": "python"
    }
  },
  "cells": [
    {
      "cell_type": "markdown",
      "metadata": {
        "id": "view-in-github",
        "colab_type": "text"
      },
      "source": [
        "<a href=\"https://colab.research.google.com/github/m-j-yates/python-conditionals-and-loops/blob/main/Megs_Python_Day_2_Exercises_Master.ipynb\" target=\"_parent\"><img src=\"https://colab.research.google.com/assets/colab-badge.svg\" alt=\"Open In Colab\"/></a>"
      ]
    },
    {
      "cell_type": "markdown",
      "source": [
        "By the end of these exercises, you will be able to:\n",
        "\n",
        "✅ Use conditional statements (if, elif, else) to control the flow of a program.\n",
        "\n",
        "✅ Apply the modulus operator (%) to check number properties like divisibility and parity.\n",
        "\n",
        "✅ Implement input validation and string comparisons to build basic user authentication logic.\n",
        "\n",
        "✅ Use a while loop to repeat tasks based on conditions such as success criteria or attempt limits.\n",
        "\n",
        "✅ Combine loops and decision-making logic to build interactive programs like simple menus.\n",
        "\n",
        "✅ Practice using a for loop with the range() function to iterate over numbers efficiently."
      ],
      "metadata": {
        "id": "1CyqxVu9C-PV"
      }
    },
    {
      "cell_type": "code",
      "source": [],
      "metadata": {
        "id": "_ZRJZQKvpYh-"
      },
      "execution_count": null,
      "outputs": []
    },
    {
      "cell_type": "markdown",
      "source": [
        "### 1 ) 🔐 Scenario-Based Exercise: Security Door Access\n",
        "Scenario:\n",
        "You are a security engineer at a high-tech facility. To enter the building, employees must type in a secret code on a keypad. The code for today is \"123\". You need to write a program that checks if the person has entered the correct code.\n",
        "\n",
        "🧠 Mission Brief:\n",
        "Your task is to write a program that:\n",
        "\n",
        "Asks the person to enter the access code.\n",
        "\n",
        "If the code is \"123\", the system should print:\n",
        "\"🔓 Access granted. Welcome inside!\"\n",
        "\n",
        "If the code is incorrect, the system should print:\n",
        "\"⛔ Access denied. Incorrect code.\"\n",
        "\n"
      ],
      "metadata": {
        "id": "jNDdFa948_PH"
      }
    },
    {
      "cell_type": "code",
      "source": [
        "password = 123\n",
        "\n",
        "attempts = 3\n",
        "\n",
        "while attempts >0:\n",
        "  user_entry = int(input(\"Please Enter Access Code: \"))\n",
        "\n",
        "  if password == user_entry:\n",
        "    print(\"🔓 Access granted. Welcome inside!\")\n",
        "    break\n",
        "\n",
        "  else:\n",
        "    print(\"⛔ Access Denied. Incorrect code\")\n"
      ],
      "metadata": {
        "id": "snAV3Wll9HYM",
        "colab": {
          "base_uri": "https://localhost:8080/"
        },
        "outputId": "9bb44793-27af-480f-ef0e-928b7cf17c8b"
      },
      "execution_count": null,
      "outputs": [
        {
          "output_type": "stream",
          "name": "stdout",
          "text": [
            "Please Enter Access Code: 124\n",
            "⛔ Access Denied. Incorrect code\n",
            "Please Enter Access Code: 123\n",
            "🔓 Access granted. Welcome inside!\n"
          ]
        }
      ]
    },
    {
      "cell_type": "code",
      "source": [],
      "metadata": {
        "id": "Rb2Kl0xg9HP4"
      },
      "execution_count": null,
      "outputs": []
    },
    {
      "cell_type": "markdown",
      "source": [
        "### 2) You’re building a simple number-checking tool for a maths learning app. The app should tell users whether their chosen number is divisible by 3 and 7.\n",
        "\n",
        "🧪 Task:\n",
        "Write a Python program that:\n",
        "\n",
        "Asks the user to enter a number.\n",
        "\n",
        "Checks whether the number is divisible by both 3 and 7.\n",
        "\n",
        "Displays a clear message with the result."
      ],
      "metadata": {
        "id": "NvdrqSUw3EnE"
      }
    },
    {
      "cell_type": "code",
      "source": [
        "number= int(input(\"Enter A Number Please! \"))\n",
        "if number % 3 == 0 and number % 7 == 0:\n",
        "  print(\"Hooray!\", number, \"Is Divisble by 3 AND 7, WOW!\")\n",
        "else:\n",
        "  print (\"UH,OH! Looks like\", number, \"isn't divisible by 3 and 7!\")"
      ],
      "metadata": {
        "id": "9fCSI16-LB9t",
        "colab": {
          "base_uri": "https://localhost:8080/"
        },
        "outputId": "31a04030-83b6-4e63-ab18-777419d4e73d"
      },
      "execution_count": null,
      "outputs": [
        {
          "output_type": "stream",
          "name": "stdout",
          "text": [
            "Enter A Number Please! 21\n",
            "Hooray! 21 Is Divisble by 3 AND 7, WOW!\n"
          ]
        }
      ]
    },
    {
      "cell_type": "code",
      "source": [],
      "metadata": {
        "id": "sm1V_frW3NCU"
      },
      "execution_count": null,
      "outputs": []
    },
    {
      "cell_type": "markdown",
      "source": [
        "### 3) You're developing a simple calculator tool for a local community learning website. Users should be able to choose what operation they want to perform and continue using the calculator until they decide to exit.\n",
        "\n",
        "🧪 Task:\n",
        "Write a Python program that:\n",
        "\n",
        "Displays a menu with the following options:\n",
        "\n",
        "* 1- Addition\n",
        "\n",
        "* 2- Subtraction\n",
        "\n",
        "* 3- Multiplication\n",
        "\n",
        "* 4-Division\n",
        "\n",
        "* 5- Exit\n",
        "\n",
        "Asks the user to choose an operation\n",
        "\n",
        "Asks for two numbers, then performs the chosen operation\n",
        "\n",
        "Repeats the menu until the user selects Exit"
      ],
      "metadata": {
        "id": "Xc1ZWUAX3NbV"
      }
    },
    {
      "cell_type": "code",
      "source": [
        "while True:\n",
        "    print(\"What Would You Like To Do?\\n 1- Addition\\n 2- Subtraction\\n 3- Multiplication\\n 4- Division\\n 5- Exit\")\n",
        "    choice = input(\"Please Choose 1-5: \")\n",
        "\n",
        "    if choice == \"5\":\n",
        "        print(\"Okay, Bye!\")\n",
        "        break\n",
        "\n",
        "    if choice in [\"1\", \"2\", \"3\", \"4\"]:\n",
        "        n1 = int(input(\"Enter First Number: \"))\n",
        "        n2 = int(input(\"Enter Second Number: \"))\n",
        "\n",
        "        if choice == \"1\":\n",
        "            print(\"Result:\", n1 + n2)\n",
        "        elif choice == \"2\":\n",
        "            print(\"Result:\", n1 - n2)\n",
        "        elif choice == \"3\":\n",
        "            print(\"Result:\", n1 * n2)\n",
        "        elif choice == \"4\":\n",
        "            if n2 != 0:\n",
        "                print(\"Result:\", n1 / n2)\n",
        "            else:\n",
        "                print(\"Can't divide by zero!\")\n",
        "    else:\n",
        "        print(\"Please select a number from 1 to 5.\")\n"
      ],
      "metadata": {
        "colab": {
          "base_uri": "https://localhost:8080/"
        },
        "id": "U1p8lgI_wfxN",
        "outputId": "472e8d3b-97a0-42c7-933b-d905ae44cc39"
      },
      "execution_count": null,
      "outputs": [
        {
          "output_type": "stream",
          "name": "stdout",
          "text": [
            "What Would You Like To Do?\n",
            " 1- Addition\n",
            " 2- Subtraction\n",
            " 3- Multiplication\n",
            " 4- Division\n",
            " 5- Exit\n",
            "Please Choose 1-5: 5\n",
            "Okay, Bye!\n"
          ]
        }
      ]
    },
    {
      "cell_type": "markdown",
      "source": [
        "### 4) You’re building a fitness tracker app. The app should calculate the total number of steps someone would take if they increase their steps by 1 each day — starting from 1 up to a number they choose.\n",
        "\n",
        "🧪 Task:\n",
        "Write a Python program that:\n",
        "\n",
        "Asks the user to enter a positive number\n",
        "\n",
        "Calculates the sum of all numbers from 1 to that number\n",
        "\n",
        "Displays the total\n",
        "<p> If the user enters 10, the output should be:\n",
        "\n",
        "\"The sum of numbers from 1 to 10 is 55\""
      ],
      "metadata": {
        "id": "WYecctQo3gcl"
      }
    },
    {
      "cell_type": "code",
      "source": [
        "n= int(input(\"Please Enter A Positive Number\"))\n",
        "total = 0\n",
        "for x in range(1, n + 1):\n",
        "    total += x\n",
        "print(\"The sum of numbers from 1 to\", n, \"is\", total)\n"
      ],
      "metadata": {
        "id": "BnMVDLYk30S0",
        "colab": {
          "base_uri": "https://localhost:8080/"
        },
        "outputId": "2bc82dfa-904c-48ba-f7fc-40fe6ca689ed"
      },
      "execution_count": null,
      "outputs": [
        {
          "output_type": "stream",
          "name": "stdout",
          "text": [
            "Please Enter A Positive Number10\n",
            "The sum of numbers from 1 to 10 is 55\n"
          ]
        }
      ]
    },
    {
      "cell_type": "code",
      "source": [],
      "metadata": {
        "id": "1t55cCii30GS"
      },
      "execution_count": null,
      "outputs": []
    },
    {
      "cell_type": "markdown",
      "source": [
        "### 5) You’ve been asked to help design a feature for a Math Quiz App. One challenge asks the user to enter a number — and your program will check whether it’s a prime number (a number that has only two factors: 1 and itself).\n",
        "\n",
        "🧪 Task:\n",
        "Write a Python program that:\n",
        "\n",
        "Asks the user to enter a positive integer\n",
        "\n",
        "Checks whether the number is a prime number\n",
        "\n",
        "Displays a message telling the user whether the number is prime or not\n",
        "\n"
      ],
      "metadata": {
        "id": "mIno3sX3302r"
      }
    },
    {
      "cell_type": "code",
      "source": [
        "num = int(input(\"Enter a number to check whether it's a prime number: \"))\n",
        "\n",
        "if num <= 1:\n",
        "    print(num, \"is not a prime number\")\n",
        "else:\n",
        "    for i in range(2, num):\n",
        "        if num % i == 0:\n",
        "            print(num, \"is not a prime number\")\n",
        "            print(i, \"times\", num // i, \"is\", num)\n",
        "            break\n",
        "    else:\n",
        "        print(num, \"is a prime number\")"
      ],
      "metadata": {
        "id": "YqDFfb4yD5Z9",
        "outputId": "2156bcc8-6d00-4553-e23e-4f3cc5f93061",
        "colab": {
          "base_uri": "https://localhost:8080/"
        }
      },
      "execution_count": null,
      "outputs": [
        {
          "output_type": "stream",
          "name": "stdout",
          "text": [
            "Enter a number to check whether it's a prime number: 21\n",
            "21 is not a prime number\n",
            "3 times 7 is 21\n"
          ]
        }
      ]
    },
    {
      "cell_type": "markdown",
      "source": [
        "### 6) You’re building a tool for a puzzle game where certain levels require calculating the factorial of a number to unlock a clue. A factorial of a number is the product of all positive integers from 1 up to that number.\n",
        "\n",
        "For example:\n",
        "5! = 5 × 4 × 3 × 2 × 1 = 120\n",
        "\n",
        "🧪 Task:\n",
        "Write a Python program that:\n",
        "\n",
        "Asks the user to enter a non-negative integer\n",
        "\n",
        "Calculates the factorial of that number\n",
        "\n",
        "Displays the result\n",
        "\n"
      ],
      "metadata": {
        "id": "r8Jg57iD391Y"
      }
    },
    {
      "cell_type": "code",
      "source": [
        "import math\n",
        "n= int(input(\"Please Enter A Positive Integer\"))\n",
        "factorial= math.factorial(n)\n",
        "print (factorial)"
      ],
      "metadata": {
        "id": "PIdWuAML4HOf",
        "colab": {
          "base_uri": "https://localhost:8080/"
        },
        "outputId": "a9b5dace-d69c-4cc3-8762-e3a656df93da"
      },
      "execution_count": null,
      "outputs": [
        {
          "output_type": "stream",
          "name": "stdout",
          "text": [
            "Please Enter A Positive Integer25\n",
            "15511210043330985984000000\n"
          ]
        }
      ]
    },
    {
      "cell_type": "markdown",
      "source": [
        "### 7) You're helping design a study tool for kids that displays fun number patterns. One such pattern looks like a staircase, where each line adds one more number.\n",
        "\n",
        "🧪 Task:\n",
        "Write a Python program using nested for loops to display the following pattern:\n",
        "<p> Hint: Use nested for loops\n",
        "\n",
        "![067afe1d-8482-4696-88c8-46587332ea96 (1).png](data:image/png;base64,iVBORw0KGgoAAAANSUhEUgAAAQQAAACrCAYAAACANeKFAAAABGdBTUEAALGPC/xhBQAAAAlwSFlzAAAScwAAEnMBjCK5BwAABONJREFUeF7t3UFuGzcYhuEeq0A3OVMWyT0MJKdIgJzAPkPgtc6iWp6ZT7IwalqJv6s/8yyeTezQszBfU5RA/rHb7fZ//vUBYC8IQAgCEIIAhCAAIQhACAIQggCEIAAhCEAIAhCCAIQgACEIQAgCEIIAhCAAIQhACAIQggCEIAAhCEAUB+Hr/vFl/MPPeP72eeXrwD0pCsLn/fefhxA87R++PAkCNFEShIfHkwAIArRRv4cgCNCGIAAhCEAIAhCCAIQgACEIQAgCEDVBmCNwyeOXlf8D/O/qVwhAG4IAhCAAIQhACAIQggCEIAAhCEAIAhCCAIQgACEIQAgCEIIAhCAAIQhACAIQggBEcRBG3/68XCJ74vHryvcB1ygKQsXtz9OYb8ZZzm4UBRiiJAjvefvz4Wftds/775/Wvw78e/V7CMVB+PjtWRBgkPZBsEKAcXoH4dOP/fPL2LufP/Yf174O/CeNg3B8B8PFLzBG0yAc336seikCW9QwCGIAVdoFYdpEfOGzBzBcqyCIAdSqCcIcgUuu2gRc3lG4xDsNcLP6FQLQhiAAIQhACAIQggCEIAAhCEAIAhCCAIQgACEIQAgCEIIAhCAAIQhACAIQggBEcRAaXPa6errT0/5h7XvhN1cUhM6XvZ48++rX4fdVEoT2l73Oz+wCGLamfg+hOAgll72+PrP7Itme9kEYv0KY9z0c9c4G9Q7CqMtez494d6Q7G9U4CHWXvS4XwthDYGuaBqH6fsd5fCsFNqZhEKpjMHldJQgCG9MuCMtyvnbTz8Yi29QqCO8TAx9MYrtqgjBH4JJ7uuw1kTlR+VIE7ln9CgFoQxCAEAQgBAEIQQBCEIAQBCAEAQhBAEIQgBAEIAQBCEEAQhCAEAQgBAEIQQCiOAgue3118jMc7c49KwrCybmEw85UnMZ8M84y0YaesTj6TMVjFAWBe1cShMM5hZm4w4KwbjoT8X4ve52e7xhGQeCe1e8hFAfhri97PY2AINBA+yCMXyGMupPhbBxBoIHeQbjjy17zUmH5N0GggcZBOG7WjZ5k02S+Ydy1yS8INNA0CMe3H2teiszjX7VSmP/v+UsOQaCBhkGojsHkdZVwTRB+dcPUTBi4R+2CsCznx3724NyojcUTVgg00CoI7xOD0R9MmgkCDdQEYf7lv+SqSdH9sldBoIH6FQLQhiAAIQhACAIQggCEIAAhCEAIAhCCAIQgACEIQAgCEIIAhCAAIQhACAIQggBEcRCOR6WPOYXoeMBq3Hqc2urpTjXHpx3cdGLSP5wa5SQmRigKwsm5hPNkuD0I05hvxlkm2tAzFkefqXiM4s0Tdw6CyU+VkiAczinMxB0WhHXTmYgbuexVEChWv4dQHIRNXfYqCBRrH4TxK4RRdzKcjSMINNA7CMsm21Yuez1/zleDV0dsWuMgHDfrRv/FnCbzDeOuTf4RQVixPGvVCoxtaRqE49uPNRNhHr/FZa+j3xVhyxoGoToGk9e/vC0uexUExmkXhGWJPPazB+dGbSyeKFshFDwrm9UqCO8Tg6K/uCVBWPZRrA4YoyYI8y//JVdNil8txTdw2ev0mYt3eFY2q36FALQhCEAIAhCCAIQgACEIQAgCEIIAhCAAIQhACAIQggCEIAAhCEAIAhCCAIQgACEIQAgCEIIAzD7s/wadbN4YO0i3hgAAAABJRU5ErkJggg==)"
      ],
      "metadata": {
        "id": "C_9ZSoCw4Hwi"
      }
    },
    {
      "cell_type": "code",
      "source": [
        "n=int(input(\"Please Enter A Number\"))\n",
        "for x in range(1, n +1):\n",
        "  for y in range(1, x + 1):\n",
        "    print(y, end=\" \")\n",
        "  print()"
      ],
      "metadata": {
        "id": "IZLEsth14emX",
        "colab": {
          "base_uri": "https://localhost:8080/"
        },
        "outputId": "af7e4579-6cb2-424e-bc55-e8b5b12109fb"
      },
      "execution_count": null,
      "outputs": [
        {
          "output_type": "stream",
          "name": "stdout",
          "text": [
            "Please Enter A Number3\n",
            "1 \n",
            "1 2 \n",
            "1 2 3 \n"
          ]
        }
      ]
    },
    {
      "cell_type": "code",
      "source": [],
      "metadata": {
        "id": "mfEaNZv74edt"
      },
      "execution_count": null,
      "outputs": []
    }
  ]
}